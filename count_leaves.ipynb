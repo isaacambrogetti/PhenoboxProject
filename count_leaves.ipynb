{
 "cells": [
  {
   "cell_type": "code",
   "execution_count": 1,
   "metadata": {},
   "outputs": [],
   "source": [
    "from sklearn.cluster import DBSCAN\n",
    "import numpy as np"
   ]
  },
  {
   "cell_type": "code",
   "execution_count": 3,
   "metadata": {},
   "outputs": [],
   "source": [
    "from pc_skeletor import SLBC\n",
    "import open3d as o3d"
   ]
  },
  {
   "cell_type": "code",
   "execution_count": 4,
   "metadata": {},
   "outputs": [
    {
     "data": {
      "text/plain": [
       "PointCloud with 1954286 points."
      ]
     },
     "execution_count": 4,
     "metadata": {},
     "output_type": "execute_result"
    }
   ],
   "source": [
    "# Load the .ply file\n",
    "pcd = o3d.io.read_point_cloud('scans/V2L-D5-12-C-0_pc_filtered_pc.ply')\n",
    "pcd"
   ]
  },
  {
   "cell_type": "code",
   "execution_count": null,
   "metadata": {},
   "outputs": [
    {
     "ename": "AttributeError",
     "evalue": "'SLBC' object has no attribute 'trunk'",
     "output_type": "error",
     "traceback": [
      "\u001b[0;31m---------------------------------------------------------------------------\u001b[0m",
      "\u001b[0;31mAttributeError\u001b[0m                            Traceback (most recent call last)",
      "Cell \u001b[0;32mIn[5], line 1\u001b[0m\n\u001b[0;32m----> 1\u001b[0m s_lbc \u001b[38;5;241m=\u001b[39m \u001b[43mSLBC\u001b[49m\u001b[43m(\u001b[49m\u001b[43mpoint_cloud\u001b[49m\u001b[38;5;241;43m=\u001b[39;49m\u001b[43mpcd\u001b[49m\u001b[43m,\u001b[49m\n\u001b[1;32m      2\u001b[0m \u001b[43m             \u001b[49m\u001b[43msemantic_weighting\u001b[49m\u001b[38;5;241;43m=\u001b[39;49m\u001b[38;5;241;43m30\u001b[39;49m\u001b[43m,\u001b[49m\n\u001b[1;32m      3\u001b[0m \u001b[43m             \u001b[49m\u001b[43mdown_sample\u001b[49m\u001b[38;5;241;43m=\u001b[39;49m\u001b[38;5;241;43m0.2\u001b[39;49m\u001b[43m,\u001b[49m\n\u001b[1;32m      4\u001b[0m \u001b[43m             \u001b[49m\u001b[43mdebug\u001b[49m\u001b[38;5;241;43m=\u001b[39;49m\u001b[38;5;28;43;01mTrue\u001b[39;49;00m\u001b[43m)\u001b[49m\n\u001b[1;32m      5\u001b[0m s_lbc\u001b[38;5;241m.\u001b[39mextract_skeleton()\n\u001b[1;32m      6\u001b[0m s_lbc\u001b[38;5;241m.\u001b[39mextract_topology()\n",
      "File \u001b[0;32m~/anaconda3/envs/phenobox/lib/python3.9/site-packages/pc_skeletor/laplacian.py:444\u001b[0m, in \u001b[0;36mSLBC.__init__\u001b[0;34m(self, point_cloud, semantic_weighting, init_contraction, init_attraction, max_contraction, max_attraction, step_wise_contraction_amplification, termination_ratio, max_iteration_steps, down_sample, filter_nb_neighbors, filter_std_ratio, debug, verbose)\u001b[0m\n\u001b[1;32m    442\u001b[0m \u001b[38;5;66;03m# Down sampling point cloud for faster contraction.\u001b[39;00m\n\u001b[1;32m    443\u001b[0m \u001b[38;5;28;01mif\u001b[39;00m down_sample \u001b[38;5;241m!=\u001b[39m \u001b[38;5;241m-\u001b[39m\u001b[38;5;241m1\u001b[39m:\n\u001b[0;32m--> 444\u001b[0m     \u001b[38;5;28mself\u001b[39m\u001b[38;5;241m.\u001b[39mtrunk \u001b[38;5;241m=\u001b[39m \u001b[38;5;28;43mself\u001b[39;49m\u001b[38;5;241;43m.\u001b[39;49m\u001b[43mtrunk\u001b[49m\u001b[38;5;241m.\u001b[39mvoxel_down_sample(down_sample)\n\u001b[1;32m    445\u001b[0m     \u001b[38;5;28mself\u001b[39m\u001b[38;5;241m.\u001b[39mbranches \u001b[38;5;241m=\u001b[39m \u001b[38;5;28mself\u001b[39m\u001b[38;5;241m.\u001b[39mbranches\u001b[38;5;241m.\u001b[39mvoxel_down_sample(down_sample)\n\u001b[1;32m    447\u001b[0m \u001b[38;5;66;03m# Filter point cloud as outliers might distort the skeletonization algorithm\u001b[39;00m\n",
      "\u001b[0;31mAttributeError\u001b[0m: 'SLBC' object has no attribute 'trunk'"
     ]
    }
   ],
   "source": [
    "lbc = LBC(point_cloud=pcd, down_sample=0.2)\n",
    "lbc.extract_skeleton()\n",
    "lbc.extract_topology()\n",
    "\n",
    "# Visualization\n",
    "lbc.visualize()\n",
    "lbc.export_results('./output_skeletons')\n",
    "lbc.animate(init_rot=np.asarray([[1, 0, 0], [0, 0, 1], [0, 1, 0]]),\n",
    "            steps=300,\n",
    "            output='./output_skeletons')\n"
   ]
  },
  {
   "cell_type": "code",
   "execution_count": null,
   "metadata": {},
   "outputs": [],
   "source": []
  }
 ],
 "metadata": {
  "kernelspec": {
   "display_name": "phenobox",
   "language": "python",
   "name": "python3"
  },
  "language_info": {
   "codemirror_mode": {
    "name": "ipython",
    "version": 3
   },
   "file_extension": ".py",
   "mimetype": "text/x-python",
   "name": "python",
   "nbconvert_exporter": "python",
   "pygments_lexer": "ipython3",
   "version": "3.9.20"
  }
 },
 "nbformat": 4,
 "nbformat_minor": 2
}
